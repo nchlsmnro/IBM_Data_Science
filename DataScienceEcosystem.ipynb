{
 "cells": [
  {
   "cell_type": "markdown",
   "id": "2308e2e6-7596-4843-8e21-214f6da9a993",
   "metadata": {},
   "source": [
    "<h1>Data Science Tools and Ecosystem<h1>"
   ]
  },
  {
   "cell_type": "markdown",
   "id": "40284b85-3f2f-4c86-b754-2e47996fccd8",
   "metadata": {
    "tags": []
   },
   "source": [
    "<h2>Author<h2>"
   ]
  },
  {
   "cell_type": "markdown",
   "id": "d9615fb3-3884-4356-ba47-f82e8388856b",
   "metadata": {
    "tags": []
   },
   "source": [
    "Nick"
   ]
  },
  {
   "cell_type": "markdown",
   "id": "c904fb91-a80a-4ee9-8ba1-a5ab782f63aa",
   "metadata": {},
   "source": [
    "In this notebook, Data Science Tools and Ecosystem are summarized."
   ]
  },
  {
   "cell_type": "markdown",
   "id": "727b04d8-82df-49e2-a2c2-1e3465371d40",
   "metadata": {},
   "source": [
    "<strong>Objectives:<strong>\n",
    "    \n",
    "    - You will learn to create ordered lists in JupyterLab\n",
    "    - You will learn to create tables in JupyterLab\n",
    "    - You will learn to execute arithmetic expressions in JupyterLab"
   ]
  },
  {
   "cell_type": "markdown",
   "id": "2a16947c-c878-4aca-9a7d-31baad67a4e9",
   "metadata": {},
   "source": [
    "Some of the popular languages that Data Scientists use are:\n",
    "\n",
    "1. Python\n",
    "2. R\n",
    "3. SQL"
   ]
  },
  {
   "cell_type": "markdown",
   "id": "3328258a-c190-4439-ab42-669e71ddb0eb",
   "metadata": {},
   "source": [
    "Some of the commonly used libraries used by Data Scientists include:\n",
    "\n",
    "1. Pandas\n",
    "2. Matplotlib\n",
    "3. TensorFlow"
   ]
  },
  {
   "cell_type": "markdown",
   "id": "bc6d50e9-21a1-4ec0-911e-e262be68efcb",
   "metadata": {},
   "source": [
    "|Data Science Tools|\n",
    "|------------------|\n",
    "|JupyterLab        |\n",
    "|RStudio           |\n",
    "|Apache Zeppelin   |"
   ]
  },
  {
   "cell_type": "code",
   "execution_count": 3,
   "id": "5ec406ea-4063-4274-8b82-cb3931b29601",
   "metadata": {
    "tags": []
   },
   "outputs": [
    {
     "data": {
      "text/plain": [
       "17"
      ]
     },
     "execution_count": 3,
     "metadata": {},
     "output_type": "execute_result"
    }
   ],
   "source": [
    "(3*4)+5"
   ]
  },
  {
   "cell_type": "markdown",
   "id": "c7c13842-fee7-4b29-8300-e69e32466c20",
   "metadata": {},
   "source": [
    "<h3>Below are a few examples of evaluating arithmetic expressions in Python.<h3>"
   ]
  },
  {
   "cell_type": "code",
   "execution_count": 6,
   "id": "a51d16e9-ff26-442f-9fa0-1cda91ce850d",
   "metadata": {
    "tags": []
   },
   "outputs": [],
   "source": [
    "#This will convert 200 minutes to hours by diving by 60."
   ]
  },
  {
   "cell_type": "code",
   "execution_count": 7,
   "id": "b1732b72-8a88-464c-b4e7-7e2477e61151",
   "metadata": {
    "tags": []
   },
   "outputs": [
    {
     "data": {
      "text/plain": [
       "3.3333333333333335"
      ]
     },
     "execution_count": 7,
     "metadata": {},
     "output_type": "execute_result"
    }
   ],
   "source": [
    "200/60"
   ]
  },
  {
   "cell_type": "markdown",
   "id": "86193a1a-6ebb-4a5f-a187-9f095b979bbf",
   "metadata": {},
   "source": []
  }
 ],
 "metadata": {
  "kernelspec": {
   "display_name": "Python",
   "language": "python",
   "name": "conda-env-python-py"
  },
  "language_info": {
   "codemirror_mode": {
    "name": "ipython",
    "version": 3
   },
   "file_extension": ".py",
   "mimetype": "text/x-python",
   "name": "python",
   "nbconvert_exporter": "python",
   "pygments_lexer": "ipython3",
   "version": "3.7.12"
  }
 },
 "nbformat": 4,
 "nbformat_minor": 5
}
